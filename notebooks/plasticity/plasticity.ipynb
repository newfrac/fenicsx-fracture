{
 "cells": [
  {
   "cell_type": "markdown",
   "metadata": {},
   "source": [
    "## Von Mises elasto-plasticity"
   ]
  },
  {
   "attachments": {},
   "cell_type": "markdown",
   "metadata": {},
   "source": [
    "\n",
    "This code is an updated version of the tutorial written previously by J. Bleyer on https://comet-fenics.readthedocs.io/en/latest/demo/2D_plasticity/vonMises_plasticity.py.html. \n",
    "\n",
    "\n",
    "Authors : \n",
    "- Gaspard Blondet, gaspard.blondet@ens-paris-saclay.fr\n",
    "- Andrey Latyshev, andrey.latyshev@uni.lu\n",
    "- Corrado Maurini, corrado.maurini@sorbonne-universite.fr\n",
    "\n",
    "*Warning:* The code hits a bug in the last dolfinx version, see https://github.com/FEniCS/dolfinx/issues/2664. A nasty workaround in the LHS assembling inside the solver.  \n"
   ]
  },
  {
   "attachments": {},
   "cell_type": "markdown",
   "metadata": {},
   "source": [
    "## Introduction\n",
    "\n",
    "This example is concerned with the incremental analysis of an elasto-plastic von Mises material. The structure response is computed using an iterative predictor-corrector return mapping algorithm embedded in a nonlinear solver. Due to the simple expression of the von Mises criterion, the return mapping procedure is completely analytical (with linear isotropic hardening), so instead of using manual implementation of the Newton method, we can use an efficient one provided by the SNES library."
   ]
  },
  {
   "attachments": {},
   "cell_type": "markdown",
   "metadata": {},
   "source": [
    "## Problem position\n",
    "\n",
    "Import required modules and define useful functions."
   ]
  },
  {
   "cell_type": "code",
   "execution_count": 26,
   "metadata": {},
   "outputs": [],
   "source": [
    "from  dolfinx import fem, geometry\n",
    "from dolfinx.io import gmshio\n",
    "import numpy as np\n",
    "from petsc4py.PETSc import ScalarType\n",
    "from petsc4py import PETSc\n",
    "from mpi4py import MPI\n",
    "import ufl\n",
    "import basix\n",
    "import gmsh\n",
    "\n",
    "#BUG: the line below is needed to correctly call `fem.petsc.create_vector` \n",
    "# in FEniCSx v0.7.0\n",
    "import dolfinx.fem.petsc \n",
    "\n",
    "\n",
    "petsc_options_SNES = {\n",
    "    \"snes_type\": \"vinewtonrsls\",\n",
    "    \"snes_linesearch_type\": \"basic\",\n",
    "    \"ksp_type\": \"preonly\",\n",
    "    \"pc_type\": \"lu\",\n",
    "    \"pc_factor_mat_solver_type\": \"mumps\",\n",
    "    \"snes_atol\": 1.0e-08,\n",
    "    \"snes_rtol\": 1.0e-09,\n",
    "    \"snes_stol\": 0.0,\n",
    "    \"snes_max_it\": 50,\n",
    "    \"snes_monitor\": \"\",\n",
    "    # \"snes_monitor_cancel\": \"\",\n",
    "}\n",
    "\n",
    "\n",
    "def interpolate_quadrature(ufl_expr, fem_func:fem.Function):\n",
    "    q_dim = fem_func.function_space._ufl_element.degree\n",
    "    mesh = fem_func.ufl_function_space().mesh\n",
    "    \n",
    "    quadrature_points, weights = basix.make_quadrature(basix.CellType.triangle, q_dim, basix.QuadratureType.default)\n",
    "    map_c = mesh.topology.index_map(mesh.topology.dim)\n",
    "    num_cells = map_c.size_local + map_c.num_ghosts\n",
    "    cells = np.arange(0, num_cells, dtype=np.int32)\n",
    "\n",
    "    expr_expr = fem.Expression(ufl_expr, quadrature_points)\n",
    "    expr_eval = expr_expr.eval(mesh, cells)\n",
    "    np.copyto(fem_func.x.array, expr_eval.reshape(-1))\n",
    "\n",
    "\n",
    "def find_cells(points, domain):\n",
    "    \"\"\"\n",
    "    Find the cells of the mesh `domain` where the points `points` lie\n",
    "    \"\"\"\n",
    "    bb_tree = geometry.bb_tree(domain, domain.topology.dim)\n",
    "    cells = []\n",
    "    points_on_proc = []\n",
    "    # Find cells whose bounding-box collide with the the points\n",
    "    cell_candidates = geometry.compute_collisions_points(bb_tree, points.T)\n",
    "    # Choose one of the cells that contains the point\n",
    "    colliding_cells = geometry.compute_colliding_cells(domain, cell_candidates, points.T)\n",
    "    for i, point in enumerate(points.T):\n",
    "        if len(colliding_cells.links(i))>0:\n",
    "            points_on_proc.append(point)\n",
    "            cells.append(colliding_cells.links(i)[0])\n",
    "    points_on_proc = np.array(points_on_proc, dtype=np.float64)\n",
    "    return points_on_proc, cells\n",
    "\n",
    "def solution(domain, solu_name, xval, yval, zval=0):\n",
    "    \"\"\"\n",
    "    gives the value of the solution at the point (xval,yval)\n",
    "    \"\"\"\n",
    "    points = np.array([[xval],[yval],[zval]]) # dummy 3rd element\n",
    "    pointsT, cells = find_cells(points,domain)\n",
    "    out = solu_name.eval(pointsT, cells)\n",
    "    return out "
   ]
  },
  {
   "attachments": {},
   "cell_type": "markdown",
   "metadata": {},
   "source": [
    "## Mesh and parameters"
   ]
  },
  {
   "attachments": {},
   "cell_type": "markdown",
   "metadata": {},
   "source": [
    "The material is represented by an isotropic elasto-plastic von Mises yield condition of uniaxial strength $\\sigma_0$ and with isotropic hardening of modulus $H$. The yield condition is thus given by :\n",
    "\n",
    "$$ f(\\underline{\\underline{\\sigma}}) = \\sqrt{\\dfrac{3}{2} \\underline{\\underline{s}} : \\underline{\\underline{s}}}-\\sigma_0 - H \\ p \\leq 0$$\n",
    "\n",
    "where $p$ is the cumulated equivalent plastic strain.\n",
    "\n",
    "The considered problem is that of a plane strain hollow cylinder of internal (resp. external) radius $R_i$ (resp. $R_e$) under internal uniform pressure $q$. Due to symmetry, only a quarter of cylinder is generated using Gmsh and imported in dolfinx through gmshio."
   ]
  },
  {
   "attachments": {},
   "cell_type": "markdown",
   "metadata": {},
   "source": [
    "Define or import your parameters:"
   ]
  },
  {
   "cell_type": "code",
   "execution_count": 27,
   "metadata": {},
   "outputs": [],
   "source": [
    "# Geometric parameters\n",
    "geom = {\"Re\" : 1.3,     # m\n",
    "        \"Ri\" : 1.,      # m\n",
    "        \"lc\" : 0.03,    # size of a cell\n",
    "        }\n",
    "\n",
    "\n",
    "# Mechanicals parameters\n",
    "mech = {\"E\" : 1.,    # MPa\n",
    "        \"nu\" : 0.3,     #       \n",
    "        \"sig0\" : 250. / 70.e3,  # MPa\n",
    "        \"H\" : 1. / 99., # MPa\n",
    "        }\n",
    "\n",
    "\n",
    "# Study parameters\n",
    "stud = {\"deg u\" : 2,    # Interpolation of u\n",
    "        \"deg sig\" : 2,  # Interpolation of sig, eps, p\n",
    "        \"N incr\" : 50,  # Number of load steps\n",
    "        }\n"
   ]
  },
  {
   "attachments": {},
   "cell_type": "markdown",
   "metadata": {},
   "source": [
    "Create mesh"
   ]
  },
  {
   "cell_type": "code",
   "execution_count": 28,
   "metadata": {},
   "outputs": [
    {
     "name": "stdout",
     "output_type": "stream",
     "text": [
      "Info    : Meshing 1D...\n",
      "Info    : [  0%] Meshing curve 1 (Line)\n",
      "Info    : [ 30%] Meshing curve 2 (Line)\n",
      "Info    : [ 60%] Meshing curve 3 (Circle)\n",
      "Info    : [ 80%] Meshing curve 4 (Circle)\n",
      "Info    : Done meshing 1D (Wall 0.000249125s, CPU 0.000389s)\n",
      "Info    : Meshing 2D...\n",
      "Info    : Meshing surface 20 (Plane, Frontal-Delaunay)\n",
      "Info    : Done meshing 2D (Wall 0.033099s, CPU 0.032649s)\n",
      "Info    : 809 nodes 1619 elements\n"
     ]
    },
    {
     "name": "stderr",
     "output_type": "stream",
     "text": [
      "Warning : Gmsh has aleady been initialized\n"
     ]
    }
   ],
   "source": [
    "R_e, R_i = geom[\"Re\"], geom[\"Ri\"]  # external/internal radius\n",
    "\n",
    "# mesh parameters\n",
    "lc = 0.03 \n",
    "gdim = 2\n",
    "verbosity = 10\n",
    "\n",
    "# mesh using gmsh\n",
    "mesh_comm = MPI.COMM_WORLD\n",
    "model_rank = 0\n",
    "gmsh.initialize()\n",
    "facet_tags = {\"Lx\": 1, \"Ly\":2, \"inner\": 3, \"outer\": 4}\n",
    "cell_tags = {\"all\": 20}\n",
    "if mesh_comm.rank == model_rank:\n",
    "    model = gmsh.model()\n",
    "    model.add(\"Quart_cylinder\")\n",
    "    model.setCurrent(\"Quart_cylinder\")\n",
    "    # Create the points\n",
    "    pix = model.occ.addPoint(R_i, 0.0, 0, lc)\n",
    "    pex = model.occ.addPoint(R_e, 0, 0, lc)\n",
    "    piy = model.occ.addPoint(0., R_i, 0, lc)\n",
    "    pey = model.occ.addPoint(0., R_e, 0, lc)\n",
    "    center = model.occ.addPoint(0., 0., 0, lc)\n",
    "    # Create the lines\n",
    "    lx = model.occ.addLine(pix, pex, tag = facet_tags[\"Lx\"])\n",
    "    lout = model.occ.addCircleArc(pex, center, pey, tag = facet_tags[\"outer\"])\n",
    "    ly = model.occ.addLine(pey, piy, tag = facet_tags[\"Ly\"])\n",
    "    lin = model.occ.addCircleArc(piy, center, pix, tag = facet_tags[\"inner\"])\n",
    "    # Create the surface\n",
    "    cloop1 = model.occ.addCurveLoop([lx, lout, ly, lin])\n",
    "    surface_1 = model.occ.addPlaneSurface([cloop1], tag = cell_tags[\"all\"])\n",
    "    model.occ.synchronize()      \n",
    "    # Assign mesh and facet tags\n",
    "    surface_entities = [entity[1] for entity in model.getEntities(2)]\n",
    "    model.addPhysicalGroup(2, surface_entities, tag=cell_tags[\"all\"])    \n",
    "    model.setPhysicalName(2, 2, \"Quart_cylinder surface\")\n",
    "    for (key, value) in facet_tags.items():\n",
    "            model.addPhysicalGroup(1, [value], tag=value) # 1 : it is the dimension of the object (here a curve)\n",
    "            model.setPhysicalName(1, value, key)\n",
    "    # Finalize mesh\n",
    "    model.occ.synchronize()              \n",
    "    gmsh.option.setNumber('General.Verbosity', verbosity)\n",
    "    model.mesh.generate(gdim)\n",
    "    if mesh_comm == model_rank:\n",
    "        my_model = model\n",
    "    else :\n",
    "        my_model = None\n",
    "\n",
    "# import the mesh in fenicsx with gmshio\n",
    "msh, cell_tags, facet_tags = gmshio.model_to_mesh(\n",
    "            model, mesh_comm, 0., gdim=2\n",
    "        )\n",
    "\n",
    "msh.topology.create_connectivity(msh.topology.dim - 1, msh.topology.dim)\n",
    "msh.name = \"Quart_cylinder\"\n",
    "cell_tags.name = f\"{msh.name}_cells\"\n",
    "facet_tags.name = f\"{msh.name}_facets\""
   ]
  },
  {
   "cell_type": "code",
   "execution_count": 29,
   "metadata": {},
   "outputs": [],
   "source": [
    "E = fem.Constant(msh, ScalarType(mech[\"E\"]))\n",
    "nu = fem.Constant(msh, ScalarType(mech[\"nu\"]))\n",
    "lmbda = E * nu / (1. + nu) / (1. - 2. * nu)\n",
    "mu = E / 2. / (1. + nu)\n",
    "sig0 = fem.Constant(msh, ScalarType(mech[\"sig0\"]))  # yield strength\n",
    "H = fem.Constant(msh, ScalarType(mech[\"H\"]))   # hardening modulus"
   ]
  },
  {
   "attachments": {},
   "cell_type": "markdown",
   "metadata": {},
   "source": [
    "# Function spaces and boundary conditions"
   ]
  },
  {
   "attachments": {},
   "cell_type": "markdown",
   "metadata": {},
   "source": [
    "Function spaces will involve a standard CG space for the displacement whereas internal state variables such as plastic strains will be represented using a *Quadrature* element. This choice will make it possible to express the complex non-linear material constitutive equation at the Gauss points only, without involving any interpolation of non-linear expressions throughout the element. It will ensure an optimal convergence rate for the Newton-Raphson method used in the non linear solver. \n",
    "\n",
    "We will need Quadrature elements for 4-dimensional vectors and scalars, the number of Gauss points will be determined by the required degree of the Quadrature element (e.g. degree=1 yields only 1 Gauss point, degree=2 yields 3 Gauss points and degree=3 yields 6 Gauss points (note that this is suboptimal)):"
   ]
  },
  {
   "cell_type": "code",
   "execution_count": 30,
   "metadata": {},
   "outputs": [],
   "source": [
    "deg_u = stud[\"deg u\"]\n",
    "deg_stress = stud[\"deg sig\"]\n",
    "V = fem.functionspace(msh, (\"Lagrange\", deg_u, (2,)))\n",
    "element_quad = basix.ufl.quadrature_element(msh.topology.cell_name(), degree=deg_stress,value_shape=(4,))\n",
    "element_quad_scalar = basix.ufl.quadrature_element(msh.topology.cell_name(), degree=deg_stress)\n",
    "\n",
    "W = fem.functionspace(msh, element_quad)\n",
    "W_scalar = fem.functionspace(msh, element_quad_scalar)"
   ]
  },
  {
   "attachments": {},
   "cell_type": "markdown",
   "metadata": {},
   "source": [
    "Various functions are defined to keep track of the current internal state. \n",
    "\n",
    "Because we use Quadrature elements a custom integration measure *dx_m* must be defined to match the quadrature degree and scheme used by the Quadrature elements :"
   ]
  },
  {
   "cell_type": "code",
   "execution_count": 31,
   "metadata": {},
   "outputs": [],
   "source": [
    "sig = fem.Function(W, name = \"Stress\")\n",
    "p = fem.Function(W_scalar, name = \"Cumulative_plastic_strain\")\n",
    "u = fem.Function(V, name = \"Total_displacement\")\n",
    "du = fem.Function(V, name = \"Current_increment\")\n",
    "v = ufl.TrialFunction(V)\n",
    "u_ = ufl.TestFunction(V)\n",
    "\n",
    "\n",
    "dx = ufl.Measure(\"dx\",domain=msh,  metadata={\"quadrature_degree\": deg_u, \"quadrature_scheme\": \"default\"} )\n",
    "dx_m = ufl.Measure(\"dx\",domain=msh,  metadata={\"quadrature_degree\": deg_stress, \"quadrature_scheme\": \"default\"} )\n",
    "ds = ufl.Measure(\"ds\", domain=msh, subdomain_data=facet_tags)\n",
    "ds_m = ufl.Measure(\"ds\", domain=msh, subdomain_data=facet_tags,  metadata={\"quadrature_degree\": deg_stress, \"quadrature_scheme\": \"default\"})\n",
    "\n",
    "n = ufl.FacetNormal(msh)"
   ]
  },
  {
   "attachments": {},
   "cell_type": "markdown",
   "metadata": {},
   "source": [
    "Boundary conditions correspond to symmetry conditions on the bottom and left parts (resp. numbered 1 and 2). Loading consists of a uniform pressure on the internal boundary (numbered 3). It will be progressively increased from $0$ to $q_{lim}=\\dfrac{2}{\\sqrt{3}}\\sigma_0 \\log{\\dfrac{R_e}{R_i}}$ which is the analytical collapse load for a perfectly-plastic material (no hardening):"
   ]
  },
  {
   "cell_type": "code",
   "execution_count": 32,
   "metadata": {},
   "outputs": [],
   "source": [
    "bottom_facets = facet_tags.find(1)\n",
    "left_facets = facet_tags.find(2)\n",
    "\n",
    "bottom_dofs_y = fem.locate_dofs_topological(V.sub(1), msh.topology.dim-1, bottom_facets)\n",
    "left_dofs_x = fem.locate_dofs_topological(V.sub(0), msh.topology.dim-1, left_facets)\n",
    "\n",
    "sym_bottom = fem.dirichletbc(np.array(0.,dtype=ScalarType), bottom_dofs_y, V.sub(1))\n",
    "sym_left = fem.dirichletbc(np.array(0.,dtype=ScalarType), left_dofs_x, V.sub(0))\n",
    "\n",
    "bcs = [sym_bottom, sym_left]\n",
    "\n",
    "q_lim = float(2. / np.sqrt(3) * np.log(R_e / R_i) * mech[\"sig0\"])\n",
    "loading = fem.Constant(msh, ScalarType(0. * q_lim))\n",
    "\n",
    "def F_ext(v):\n",
    "    return -loading * ufl.inner(n, v) * ds_m(3) # force is applied at the inner boundary 3"
   ]
  },
  {
   "attachments": {},
   "cell_type": "markdown",
   "metadata": {},
   "source": [
    "# Constitutive relation updates\n",
    "\n",
    "Before writing the variational form, we now define some useful functions which will enable performing the constitutive relation update using a return mapping procedure. This step is quite classical in FEM plasticity for a von Mises criterion with isotropic hardening and follow notations from *Bonnet et al, The finite element method in solid mechanics, 2014*. \n",
    "\n",
    "First, the strain tensor will be represented in a 3D fashion by appending zeros on the out-of-plane components since, even if the problem is 2D, the plastic constitutive relation will involve out-of-plane plastic strains. The elastic constitutive relation is also defined and function *as_3D_tensor* and *tensor_to_vector* will enable to represent a 4-dimensional vector containing respectively $xx$, $yy$, $zz$ and $xy$ components as a 3D tensor and vice versa."
   ]
  },
  {
   "cell_type": "code",
   "execution_count": 33,
   "metadata": {},
   "outputs": [],
   "source": [
    "def eps(v):\n",
    "    e = ufl.sym(ufl.grad(v))\n",
    "    return ufl.as_tensor([[e[0, 0], e[0, 1], 0],\n",
    "                      [e[0, 1], e[1, 1], 0],\n",
    "                      [0, 0, 0]])\n",
    "\n",
    "\n",
    "def sigma_tr(eps_el):\n",
    "    return 1./3. * (3. * lmbda + 2. * mu) * ufl.tr(eps_el) * ufl.Identity(3)\n",
    "\n",
    "\n",
    "def sigma_dev(eps_el):\n",
    "    return 2. * mu * ufl.dev(eps_el)\n",
    "\n",
    "\n",
    "def as_3D_tensor(X):\n",
    "    return ufl.as_tensor([[X[0], X[3], 0],\n",
    "                      [X[3], X[1], 0],\n",
    "                      [0, 0, X[2]]])\n",
    "\n",
    "\n",
    "def tensor_to_vector(X): \n",
    "    ''' \n",
    "    Take a 3x3 tensor and return a vector of size 4 in 2D\n",
    "    '''\n",
    "    return ufl.as_vector([X[0, 0], X[1, 1], X[2, 2], X[0, 1]])"
   ]
  },
  {
   "attachments": {},
   "cell_type": "markdown",
   "metadata": {},
   "source": [
    "At each time step $i$ we want to solve the problem of $\\int_{\\Omega}\\underline{\\underline{\\sigma}}_i : \\underline{\\underline{\\epsilon}} \\ (\\underline{v}) dx - l(\\underline{v}) = 0$. We use for that a nonlinear solver since $\\underline{\\underline{\\sigma}}_i$ is defined as :\n",
    "\n",
    "$$\n",
    "\\underline{\\underline{\\sigma}}_i =\n",
    "\\left\\{\n",
    "\\begin{array}{ccc}\n",
    "   \\underline{\\underline{\\sigma}}_i^{elas}  &  if & \\lVert\\underline{\\underline{\\sigma}}_i^{elas}\\rVert < \\sigma_0+H.p_{i-1}\\\\\n",
    "   \\underline{\\underline{\\sigma}}_i^{elas} - \\mathbb{C} : \\Delta \\underline{\\underline{\\epsilon}}_{pi} &  else & \n",
    "\\end{array}\n",
    "\\right.\n",
    "$$\n",
    "\n",
    "With $\\underline{\\underline{\\sigma}}_i^{elas} = \\underline{\\underline{\\sigma}}_{i-1} + \\mathbb{C} : \\underline{\\underline{\\epsilon}}(\\underline{u}_i-\\underline{u}_{i-1})$ an elastic predictor to find the stress if there is not any plasticity in the increment $i-1 \\rightarrow i$. To find $\\Delta \\underline{\\underline{\\epsilon}}_{pi}$ we write the normal rule, with an explicit scheme it goes as : $\\Delta \\underline{\\underline{\\epsilon}}_{pi} = \\Delta p_i \\dfrac{3}{2} \\dfrac{\\underline{\\underline{s}}_{i-1}}{\\lVert\\underline{\\underline{\\sigma}}_{i-1}\\rVert}$ where $\\underline{\\underline{s}}$ is the deviatoric part of $\\underline{\\underline{\\sigma}}$. To find $\\Delta p_i$ we write the plasticity criterion when it is an equality : $\\lVert\\underline{\\underline{\\sigma}}_i^{elas}\\rVert - 3\\mu |\\Delta p_i| = \\sigma_0+H.p_{i-1} +H. \\Delta p_i $. Note that the criterion is written at the time $i-1$ for computing $\\sigma_i$ in the elastic case since $\\Delta p_i = 0$ then. But now we shall write it at time $i$. Finally we get :\n",
    "\n",
    "\\begin{equation}\n",
    "    \\underline{\\underline{\\sigma}}_i^{elas} = \\underline{\\underline{\\sigma}}_{i-1} + \\mathbb{C} : \\underline{\\underline{\\epsilon}} (\\underline{u}_i-\\underline{u}_{i-1})\n",
    "\\end{equation}\n",
    "\n",
    "If $\\lVert\\underline{\\underline{\\sigma}}_i^{elas}\\rVert < \\sigma_0+H.p_{i-1}$, then $\\Delta p_i = 0$, else :\n",
    "\n",
    "\\begin{equation}\n",
    "    \\Delta p_i=\\dfrac{\\lVert\\underline{\\underline{\\sigma}}_i^{elas}\\rVert-\\sigma_0-H.p_{i-1}}{H+3\\mu}\n",
    "\\end{equation}\n",
    "\n",
    "\\begin{equation}\n",
    "    \\Delta \\underline{\\underline{\\epsilon}}_{pi} = \\Delta p_i \\dfrac{3}{2} \\dfrac{\\underline{\\underline{s}}_{i-1}}{\\lVert\\underline{\\underline{\\sigma}}_{i-1}\\rVert}\n",
    "\\end{equation}\n",
    "\n",
    "\\begin{equation}\n",
    "    \\underline{\\underline{\\sigma}}_i = \\underline{\\underline{\\sigma}}_i^{elas} - \\mathbb{C} : \\Delta \\underline{\\underline{\\epsilon}}_{pi}\n",
    "\\end{equation}"
   ]
  },
  {
   "cell_type": "code",
   "execution_count": 34,
   "metadata": {},
   "outputs": [],
   "source": [
    "def normVM(sig): # Von Mises equivalent stress\n",
    "    s_ = ufl.dev(sig)\n",
    "    return ufl.sqrt(3 / 2. * ufl.inner(s_, s_))\n",
    "\n",
    "\n",
    "def compute_new_state(du, sig_old, p_old) : \n",
    "    '''\n",
    "    This function return the actualised mechanical state for a given displacement increment\n",
    "    We separate spheric and deviatoric parts of the stress to optimize convergence of the solver\n",
    "    '''\n",
    "    sig_n = as_3D_tensor(sig_old)\n",
    "    sig_el_tr = 1./3 * ufl.tr(sig_n) * ufl.Identity(3) + sigma_tr(eps(du))\n",
    "    sig_el_dev = ufl.dev(sig_n) + sigma_dev(eps(du))\n",
    "    sig_el = sig_el_tr + sig_el_dev\n",
    "    \n",
    "    criterion = normVM(sig_el) - sig0 - H * p_old\n",
    "\n",
    "    dp_ = ufl.conditional(criterion < 0., 0., criterion / (3. * mu + H))\n",
    "    direction = ufl.dev(sig_n)/normVM(sig_n)\n",
    "    new_sig_tr = sig_el_tr\n",
    "    new_sig_dev = ufl.conditional(criterion < 0., sig_el_dev, sig_el_dev - 2. * mu * 3./2. * dp_ * direction)\n",
    "\n",
    "    return new_sig_tr, new_sig_dev, dp_"
   ]
  },
  {
   "attachments": {},
   "cell_type": "markdown",
   "metadata": {},
   "source": [
    "# Global problem and non linear solver\n",
    "\n",
    "We are now in position to derive the global problem with its associated non linear solver. Each iteration will require establishing equilibrium by driving to zero the residual between the internal forces associated with the current stress state $\\sigma$ and the external force vector. "
   ]
  },
  {
   "cell_type": "code",
   "execution_count": 35,
   "metadata": {},
   "outputs": [],
   "source": [
    "new_sig_tr, new_sig_dev, dp_ = compute_new_state(du, sig, p)\n",
    "residual_u = ufl.inner(new_sig_tr, eps(v)) * dx_m + ufl.inner(new_sig_dev, eps(v)) * dx #- F_ext(v) \n",
    "J_u = ufl.derivative(residual_u, du, u_)"
   ]
  },
  {
   "cell_type": "code",
   "execution_count": 36,
   "metadata": {},
   "outputs": [],
   "source": [
    "from dolfinx.cpp.log import LogLevel, log\n",
    "\n",
    "class SNESSolver:\n",
    "    \"\"\"\n",
    "    Problem class for elasticity, compatible with PETSC.SNES solvers.\n",
    "    \"\"\"\n",
    "    def __init__(\n",
    "        self,\n",
    "        F_form: ufl.Form,\n",
    "        u: fem.Function,\n",
    "        bcs=[],\n",
    "        J_form: ufl.Form = None,\n",
    "        bounds=None,\n",
    "        petsc_options={},\n",
    "        form_compiler_parameters={},\n",
    "        jit_parameters={},\n",
    "        monitor=None,\n",
    "        prefix=None,\n",
    "    ):\n",
    "        self.u = u\n",
    "        self.bcs = bcs\n",
    "        self.bounds = bounds\n",
    "        # Give PETSc solver options a unique prefix\n",
    "        if prefix is None:\n",
    "            prefix = \"snes_{}\".format(str(id(self))[0:4])\n",
    "        self.prefix = prefix\n",
    "        if self.bounds is not None:\n",
    "            self.lb = bounds[0]\n",
    "            self.ub = bounds[1]\n",
    "        V = self.u.function_space\n",
    "        self.comm = V.mesh.comm\n",
    "        self.F_form = fem.form(F_form)\n",
    "        if J_form is None:\n",
    "            J_form = ufl.derivative(F_form, self.u, ufl.TrialFunction(V))\n",
    "        self.J_form = fem.form(J_form)\n",
    "        self.petsc_options = petsc_options\n",
    "        self.monitor = monitor\n",
    "        self.solver = self.solver_setup()\n",
    "\n",
    "\n",
    "    def set_petsc_options(self, debug=False):\n",
    "        # Set PETSc options\n",
    "        opts = PETSc.Options()\n",
    "        opts.prefixPush(self.prefix)\n",
    "        if debug is True:\n",
    "            ColorPrint.print_info(self.petsc_options)\n",
    "        for k, v in self.petsc_options.items():\n",
    "            opts[k] = v\n",
    "        opts.prefixPop()\n",
    "\n",
    "\n",
    "    def solver_setup(self):\n",
    "        # Create nonlinear solver\n",
    "        snes = PETSc.SNES().create(self.comm)\n",
    "        # Set options\n",
    "        snes.setOptionsPrefix(self.prefix)\n",
    "        self.set_petsc_options()\n",
    "        snes.setFromOptions()\n",
    "        self.b = fem.petsc.create_vector(self.F_form)\n",
    "        self.a = fem.petsc.create_matrix(self.J_form)\n",
    "        snes.setFunction(self.F, self.b)\n",
    "        snes.setJacobian(self.J, self.a)\n",
    "        # We set the bound (Note: they are passed as reference and not as values)\n",
    "        if self.monitor is not None:\n",
    "            snes.setMonitor(self.monitor)\n",
    "        if self.bounds is not None:\n",
    "            snes.setVariableBounds(self.lb.vector, self.ub.vector)\n",
    "        return snes\n",
    "\n",
    "\n",
    "    def F(self, snes: PETSc.SNES, x: PETSc.Vec, b: PETSc.Vec):\n",
    "        \"\"\"Assemble the residual F into the vector b.\n",
    "        Parameters\n",
    "        ==========\n",
    "        snes: the snes object\n",
    "        x: Vector containing the latest solution.\n",
    "        b: Vector to assemble the residual into.\n",
    "        \"\"\"\n",
    "        # We need to assign the vector to the function\n",
    "        x.ghostUpdate(addv=PETSc.InsertMode.INSERT, mode=PETSc.ScatterMode.FORWARD)\n",
    "        x.copy(self.u.x.petsc_vec)\n",
    "        self.u.x.scatter_forward()\n",
    "        # Zero the residual vector\n",
    "        b.array[:] = 0\n",
    "        fem.petsc.assemble_vector(b, self.F_form)\n",
    "        # this is a nasty workaround to include the force term with the bug https://github.com/FEniCS/dolfinx/issues/2664\n",
    "        force_form = fem.form(-F_ext(v))\n",
    "        b_ds = fem.petsc.create_vector(force_form)\n",
    "        fem.petsc.assemble_vector(b_ds,force_form)\n",
    "        b.array[:] += b_ds.array\n",
    "        \n",
    "        # Apply boundary conditions\n",
    "        fem.petsc.apply_lifting(b, [self.J_form], [self.bcs], [x], alpha=-1.0)\n",
    "        b.ghostUpdate(addv=PETSc.InsertMode.ADD, mode=PETSc.ScatterMode.REVERSE)\n",
    "        fem.petsc.set_bc(b, self.bcs, x, -1.0)\n",
    "\n",
    "\n",
    "    def J(self, snes, x: PETSc.Vec, A: PETSc.Mat, P: PETSc.Mat):\n",
    "        \"\"\"Assemble the Jacobian matrix.\n",
    "        Parameters\n",
    "        ==========\n",
    "        x: Vector containing the latest solution.\n",
    "        A: Matrix to assemble the Jacobian into.\n",
    "        \"\"\"\n",
    "        A.zeroEntries()\n",
    "        fem.petsc.assemble_matrix(A, self.J_form, self.bcs)\n",
    "        A.assemble()\n",
    "\n",
    "\n",
    "    def solve(self):\n",
    "        log(LogLevel.INFO, f\"Solving {self.prefix}\")\n",
    "        try:\n",
    "            self.solver.solve(None, self.u.x.petsc_vec)\n",
    "            self.u.x.scatter_forward()\n",
    "            return (self.solver.getIterationNumber(), self.solver.getConvergedReason())\n",
    "        except Warning:\n",
    "            log(\n",
    "                LogLevel.WARNING,\n",
    "                f\"WARNING: {self.prefix} solver failed to converge, what's next?\",\n",
    "            )\n",
    "            raise RuntimeError(f\"{self.prefix} solvers did not converge\")\n",
    "\n",
    "my_problem = SNESSolver(residual_u, du, J_form = J_u, bcs = bcs, petsc_options=petsc_options_SNES)"
   ]
  },
  {
   "cell_type": "code",
   "execution_count": null,
   "metadata": {},
   "outputs": [
    {
     "name": "stdout",
     "output_type": "stream",
     "text": [
      "\n",
      "----------- Solve for t=0.148 -----------\n",
      "  0 SNES Function norm 2.578324586684e-05\n",
      "  1 SNES Function norm 2.818773731017e-17\n",
      "Number of iterations :  1\n",
      "Converged reason = 2.000\n"
     ]
    },
    {
     "name": "stderr",
     "output_type": "stream",
     "text": [
      "ld: warning: duplicate -rpath '/Users/maurini/miniconda3/envs/fenicsx-fracture/lib' ignored\n",
      "ld: warning: duplicate -rpath '/Users/maurini/miniconda3/envs/fenicsx-fracture/lib' ignored\n",
      "ld: warning: duplicate -rpath '/Users/maurini/miniconda3/envs/fenicsx-fracture/lib' ignored\n",
      "ld: warning: duplicate -rpath '/Users/maurini/miniconda3/envs/fenicsx-fracture/lib' ignored\n"
     ]
    },
    {
     "ename": "AttributeError",
     "evalue": "'Function' object has no attribute 'vector'",
     "output_type": "error",
     "traceback": [
      "\u001b[31m---------------------------------------------------------------------------\u001b[39m",
      "\u001b[31mAttributeError\u001b[39m                            Traceback (most recent call last)",
      "\u001b[36mCell\u001b[39m\u001b[36m \u001b[39m\u001b[32mIn[37]\u001b[39m\u001b[32m, line 21\u001b[39m\n\u001b[32m     18\u001b[39m interpolate_quadrature(tensor_to_vector(new_sig_dev + new_sig_tr), sig)\n\u001b[32m     19\u001b[39m interpolate_quadrature(p + dp_, p)\n\u001b[32m---> \u001b[39m\u001b[32m21\u001b[39m \u001b[43mu\u001b[49m\u001b[43m.\u001b[49m\u001b[43mvector\u001b[49m.axpy(\u001b[32m1\u001b[39m, du.vector)\n\u001b[32m     22\u001b[39m u.x.scatter_forward()\n\u001b[32m     23\u001b[39m sig.x.scatter_forward()\n",
      "\u001b[31mAttributeError\u001b[39m: 'Function' object has no attribute 'vector'"
     ]
    }
   ],
   "source": [
    "Nincr = stud[\"N incr\"]\n",
    "load_steps = np.linspace(0, 1.1, Nincr+1)[1:] ** 0.5\n",
    "results = np.zeros((Nincr+1, 2))\n",
    "\n",
    "# Computing UFL-expressions of the corrected stress tensor and the plastic variable.\n",
    "# These expressions will be updated on each loading step.\n",
    "new_sig_tr, new_sig_dev, dp_= compute_new_state(du, sig, p)\n",
    "\n",
    "for i, t in enumerate(load_steps):\n",
    "    loading.value = t * q_lim\n",
    "    du.x.array[:] = 0.\n",
    "    \n",
    "    print(f\"\\n----------- Solve for t={t:5.3f} -----------\")\n",
    "    out = my_problem.solve()\n",
    "    print(\"Number of iterations : \", out[0])\n",
    "    print(f\"Converged reason = {out[1]:1.3f}\")\n",
    "\n",
    "    interpolate_quadrature(tensor_to_vector(new_sig_dev + new_sig_tr), sig)\n",
    "    interpolate_quadrature(p + dp_, p)\n",
    "\n",
    "    u.x.petsc_vec.axpy(1, du.x.petsc_vec)\n",
    "    u.x.scatter_forward()\n",
    "    sig.x.scatter_forward()\n",
    "    p.x.scatter_forward()\n",
    "    \n",
    "    # Post-processing\n",
    "    u_pointe = solution(msh, u, R_i, 0.)[0]\n",
    "    du_pointe = solution(msh, du, R_i, 0.)[0]\n",
    "    results[i + 1, :] = (u_pointe, t)"
   ]
  },
  {
   "cell_type": "code",
   "execution_count": null,
   "metadata": {},
   "outputs": [
    {
     "data": {
      "image/png": "[encoded data removed]",
      "text/plain": [
       "<Figure size 640x480 with 1 Axes>"
      ]
     },
     "metadata": {},
     "output_type": "display_data"
    }
   ],
   "source": [
    "import matplotlib.pyplot as plt\n",
    "plt.plot(results[:, 0], results[:, 1], \"-o\")\n",
    "plt.xlabel(\"Displacement of inner boundary\")\n",
    "plt.ylabel(r\"Applied pressure $q/q_{lim}$\")\n",
    "plt.show()"
   ]
  },
  {
   "cell_type": "code",
   "execution_count": null,
   "metadata": {},
   "outputs": [],
   "source": []
  }
 ],
 "metadata": {
  "kernelspec": {
   "display_name": "fenicsx-fracture",
   "language": "python",
   "name": "python3"
  },
  "language_info": {
   "codemirror_mode": {
    "name": "ipython",
    "version": 3
   },
   "file_extension": ".py",
   "mimetype": "text/x-python",
   "name": "python",
   "nbconvert_exporter": "python",
   "pygments_lexer": "ipython3",
   "version": "3.13.7"
  },
  "orig_nbformat": 4
 },
 "nbformat": 4,
 "nbformat_minor": 2
}
